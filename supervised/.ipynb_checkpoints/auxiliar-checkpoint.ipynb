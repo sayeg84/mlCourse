{
 "cells": [
  {
   "cell_type": "code",
   "execution_count": 2,
   "metadata": {},
   "outputs": [],
   "source": [
    "import numpy as np\n",
    "import matplotlib.pyplot as plt\n",
    "import pandas as pd\n",
    "import statsmodels.api as sm\n",
    "import sklearn.model_selection as ms\n",
    "from sklearn.linear_model import LogisticRegression\n",
    "import statsmodels.api as sm\n",
    "from sklearn.utils import resample"
   ]
  },
  {
   "cell_type": "code",
   "execution_count": 10,
   "metadata": {},
   "outputs": [
    {
     "data": {
      "text/plain": [
       "statsmodels.regression.linear_model.OLS"
      ]
     },
     "execution_count": 10,
     "metadata": {},
     "output_type": "execute_result"
    }
   ],
   "source": [
    "sm.OLS"
   ]
  },
  {
   "cell_type": "code",
   "execution_count": 15,
   "metadata": {},
   "outputs": [
    {
     "data": {
      "text/plain": [
       "True"
      ]
     },
     "execution_count": 15,
     "metadata": {},
     "output_type": "execute_result"
    }
   ],
   "source": [
    "type(sm.OLS) == type"
   ]
  },
  {
   "cell_type": "code",
   "execution_count": 4,
   "metadata": {},
   "outputs": [
    {
     "data": {
      "text/plain": [
       "statsmodels.discrete.discrete_model.Logit"
      ]
     },
     "execution_count": 4,
     "metadata": {},
     "output_type": "execute_result"
    }
   ],
   "source": [
    "sm.Logit"
   ]
  },
  {
   "cell_type": "code",
   "execution_count": 6,
   "metadata": {},
   "outputs": [
    {
     "data": {
      "text/plain": [
       "statsmodels.discrete.discrete_model.MNLogit"
      ]
     },
     "execution_count": 6,
     "metadata": {},
     "output_type": "execute_result"
    }
   ],
   "source": [
    "sm.MNLogit"
   ]
  },
  {
   "cell_type": "code",
   "execution_count": 3,
   "metadata": {},
   "outputs": [],
   "source": [
    "def getRDataset(name,package=None,verbose=False,index_col=0):\n",
    "    db = pd.read_csv(\"http://vincentarelbundock.github.com/Rdatasets/datasets.csv\")\n",
    "    reduc = db[db[\"Item\"]==name]\n",
    "    if reduc.shape[0]==0:\n",
    "        raise ValueError(\"No dataset with name {0} was found\".format(name))\n",
    "    elif reduc.shape[0] > 1 and package is None:\n",
    "        raise ValueError(\"Dataset with name {0} is available in packages {1}. Please specify package with argument \\\"package\\\"\".format(name,reduc[\"Package\"].to_list()))\n",
    "    elif not(package is None):\n",
    "        if not(package in set(db[\"Package\"])):\n",
    "            raise ValueError(\"No package with name {0} exists\".format(package))\n",
    "        reduc = reduc[reduc[\"Package\"]==package]\n",
    "        if reduc.shape[0]==0:\n",
    "            raise ValueError(\"Dataset {0} in package {1} not found\".format(name,package))\n",
    "    # Converting DataFrame to series\n",
    "    reduc = reduc.iloc[0]\n",
    "    if verbose:\n",
    "        print(\"Name of Dataset: {0}\".format(name))\n",
    "        print(\"Name of Package: {0}\".format(package))\n",
    "        print(\"Description: {0}\".format(reduc[\"Title\"]))\n",
    "        print(\"Rows: {0}\".format(reduc[\"Rows\"]))\n",
    "        print(\"Columns: {0}\".format(reduc[\"Cols\"]))\n",
    "        print(\"Link for donwload: {0}\".format(reduc[\"CSV\"]))    \n",
    "    return pd.read_csv(reduc[\"CSV\"],index_col=index_col)"
   ]
  },
  {
   "cell_type": "code",
   "execution_count": 4,
   "metadata": {},
   "outputs": [],
   "source": [
    "df = getRDataset(\"iris\")"
   ]
  },
  {
   "cell_type": "code",
   "execution_count": 5,
   "metadata": {},
   "outputs": [],
   "source": [
    "def bootstrap(df):\n",
    "    return resample(df,n_samples=df.shape[0]).reset_index(drop=True)"
   ]
  },
  {
   "cell_type": "code",
   "execution_count": 6,
   "metadata": {},
   "outputs": [],
   "source": [
    "def KFold_strat(X,y,**kwargs):\n",
    "    splitter = ms.StratifiedKFold(**kwargs)\n",
    "    iterator = splitter.split(X,y)\n",
    "    X_train = []\n",
    "    y_train = []\n",
    "    X_test = []\n",
    "    y_test = []\n",
    "    for train_index, test_index in iterator:\n",
    "        X_train.append(X.iloc[train_index,:])\n",
    "        y_train.append(y.iloc[train_index])\n",
    "        X_test.append(X.iloc[test_index,:])\n",
    "        y_test.append(y.iloc[test_index])\n",
    "    return X_train,X_test,y_train,y_test\n",
    "def KFold(X,y,**kwargs):\n",
    "    splitter = ms.KFold(**kwargs)\n",
    "    iterator = splitter.split(X,y)\n",
    "    X_train = []\n",
    "    y_train = []\n",
    "    X_test = []\n",
    "    y_test = []\n",
    "    for train_index, test_index in iterator:\n",
    "        X_train.append(X.iloc[train_index,:])\n",
    "        y_train.append(y.iloc[train_index])\n",
    "        X_test.append(X.iloc[test_index,:])\n",
    "        y_test.append(y.iloc[test_index])\n",
    "    return X_train,X_test,y_train,y_test"
   ]
  },
  {
   "cell_type": "code",
   "execution_count": 7,
   "metadata": {},
   "outputs": [],
   "source": [
    "def oneVsRestLogisticRegrresionClassifier(X,y,verbo=False,**kwargs):\n",
    "    classes = list(set(y))\n",
    "    nclasses = len(classes)\n",
    "    classifiers = []\n",
    "    if verbo:\n",
    "        print(\"Classes {0}\".format(classes))\n",
    "    for index,cla in enumerate(classes):\n",
    "        if verbo:\n",
    "            print(\"Classifiyng class {0}\".format(cla))\n",
    "        newY = (y==cla).astype(\"float64\")\n",
    "        mod = sm.Logit(exog=X,endog=newY)\n",
    "        fit = mod.fit()\n",
    "        classifiers.append(fit)\n",
    "    return classes,classifiers"
   ]
  },
  {
   "cell_type": "code",
   "execution_count": 8,
   "metadata": {},
   "outputs": [],
   "source": [
    "def multinomialLogisticRegressionClassifier(X,y,reference,**kwargs):\n",
    "    classes = list(set(y))\n",
    "    nclasses = len(classes)\n",
    "    classifiers = []\n",
    "    newY = y.astype(\"category\").cat.codes\n",
    "    refCode = newY[y==reference].iloc[0]\n",
    "    newY = (newY - refCode) % nclasses\n",
    "    newY.name = y.name\n",
    "    conversion = {}\n",
    "    for c in classes:\n",
    "        code = newY[y==c].iloc[0]\n",
    "        conversion.update({c:code})\n",
    "    mod = sm.MNLogit(exog=X,endog=newY)\n",
    "    fit = mod.fit(maxiters=10**5)\n",
    "    return conversion,fit"
   ]
  },
  {
   "cell_type": "code",
   "execution_count": 9,
   "metadata": {},
   "outputs": [],
   "source": [
    "def drop1(model,X,y,verbose=True):\n",
    "    currFit = model(exog=X,endog=y).fit()\n",
    "    if verbose:\n",
    "        print(currFit.summary())\n",
    "    aics = []\n",
    "    residuals = []\n",
    "    for var in X.columns:\n",
    "        aux = X.drop(var,axis=1)\n",
    "        fit = model(exog=aux,endog=y).fit()\n",
    "        aics.append(fit.aic)\n",
    "        residuals.append(fit.ssr)\n",
    "    newInfo = pd.DataFrame.from_dict({\"Dropped\":X.columns,\"RSS\":residuals,\"RSS Change\":[currFit.ssr-rss for rss in residuals],\"AIC\":aics,\"AIC Change\":[currFit.aic-aic for aic in aics]})\n",
    "    return newInfo"
   ]
  },
  {
   "cell_type": "code",
   "execution_count": 10,
   "metadata": {},
   "outputs": [],
   "source": [
    "def dropRecursively(model,X,y,maxiter=10,verbose=True):\n",
    "    X1 = X.copy()\n",
    "    newInfo = drop1(model,X1,y,verbose=verbose)\n",
    "    if verbose:\n",
    "        print(newInfo)\n",
    "    c = 0\n",
    "    while newInfo[\"AIC Change\"].max()>0 and c < maxiter:\n",
    "        droped = newInfo[\"Dropped\"][newInfo[\"AIC Change\"].idxmax()]\n",
    "        X1 = X1.drop(droped,axis=1)\n",
    "        newInfo = drop1(model,X1,y,verbose=verbose)\n",
    "        if verbose:\n",
    "            print(newInfo)\n",
    "        c += 1\n",
    "    return X1"
   ]
  },
  {
   "cell_type": "code",
   "execution_count": 11,
   "metadata": {},
   "outputs": [],
   "source": [
    "def add1(model,X,y,verbose=True):\n",
    "    currFit = model(exog=X,endog=y).fit()\n",
    "    if verbose:\n",
    "        print(currFit.summary())\n",
    "    aics = []\n",
    "    residuals = []\n",
    "    newVars = []\n",
    "    interactions = []\n",
    "    for index1,col1 in enumerate(X.columns):\n",
    "        if col1 != \"const\":\n",
    "            for index2,col2 in enumerate(X.columns[index1:]):\n",
    "                if col2 != \"const\":\n",
    "                    interactions.append(\"{0}:{1}\".format(col1,col2))\n",
    "    for inter in interactions:\n",
    "        aux = X.copy()\n",
    "        col1,col2 = inter.split(\":\")\n",
    "        aux[inter] = aux[col1]*aux[col2]\n",
    "        fit = model(exog=aux,endog=y).fit()\n",
    "        aics.append(fit.aic)\n",
    "        residuals.append(fit.ssr)\n",
    "    newInfo = pd.DataFrame.from_dict({\"Added\":interactions,\"RSS\":residuals,\"RSS Change\":[currFit.ssr-rss for rss in residuals],\"AIC\":aics,\"AIC Change\":[currFit.aic-aic for aic in aics]})\n",
    "    return newInfo"
   ]
  },
  {
   "cell_type": "code",
   "execution_count": 12,
   "metadata": {},
   "outputs": [],
   "source": [
    "def addRecursively(model,X,y,maxiter=10,verbose=True):\n",
    "    X1 = X.copy()\n",
    "    newInfo = add1(model,X1,y,verbose=verbose)\n",
    "    if verbose:\n",
    "        print(newInfo)\n",
    "    c = 0\n",
    "    while newInfo[\"AIC Change\"].max()>0 and c < maxiter:\n",
    "        added = newInfo[\"Added\"][newInfo[\"AIC Change\"].idxmax()]\n",
    "        spl = added.split(\":\")\n",
    "        col1,col2 = spl \n",
    "        X1[\"*\".join(spl)] = X1[col1]*X1[col2]\n",
    "        newInfo = add1(model,X1,y,verbose=verbose)\n",
    "        if verbose:\n",
    "            print(newInfo)\n",
    "        c += 1\n",
    "    return X1"
   ]
  },
  {
   "cell_type": "code",
   "execution_count": 13,
   "metadata": {},
   "outputs": [],
   "source": [
    "def stepAIC(model,X,y,maxiter=10,verbose=True):\n",
    "    X1 = X.copy()\n",
    "    dropInfo = drop1(model,X1,y,verbose=verbose)\n",
    "    addInfo = add1(model,X1,y,verbose=verbose)\n",
    "    if verbose:\n",
    "        print(dropInfo)\n",
    "        print(addInfo)\n",
    "    max1 = dropInfo[\"AIC Change\"].max()\n",
    "    max2 = addInfo[\"AIC Change\"].max()\n",
    "    totalmax = max(max1,max2)\n",
    "    c = 0\n",
    "    while totalmax > 0 and c < maxiter:\n",
    "        if totalmax == max1:\n",
    "            droped = dropInfo[\"Dropped\"][dropInfo[\"AIC Change\"].idxmax()]\n",
    "            X1 = X1.drop(droped,axis=1)\n",
    "        else:\n",
    "            added = addInfo[\"Added\"][addInfo[\"AIC Change\"].idxmax()]\n",
    "            spl = added.split(\":\")\n",
    "            col1,col2 = spl \n",
    "            X1[\"*\".join(spl)] = X1[col1]*X1[col2]\n",
    "        dropInfo = drop1(model,X1,y,verbose=verbose)\n",
    "        addInfo = add1(model,X1,y,verbose=verbose)\n",
    "        if verbose:\n",
    "            print(dropInfo)\n",
    "            print(addInfo)\n",
    "        max1 = dropInfo[\"AIC Change\"].max()\n",
    "        max2 = addInfo[\"AIC Change\"].max()\n",
    "        totalmax = max(max1,max2)\n",
    "        c += 1\n",
    "    return X1"
   ]
  },
  {
   "cell_type": "code",
   "execution_count": null,
   "metadata": {},
   "outputs": [],
   "source": [
    "def drop1Clasifier(model,df,resCol,errorFunc,verbose=True):\n",
    "    X = df.drop(resCol,axis=1)\n",
    "    y = df[resCol]\n",
    "    currFit = model.fit(X,y)\n",
    "    baseError = errorFunc(model,df,resCol)[0][0]\n",
    "    errors = []\n",
    "    for var in X.columns:\n",
    "        aux = df.drop(var,axis=1)\n",
    "        err = errorFunc(model,aux,resCol)\n",
    "        # Use global error as function\n",
    "        errors.append(err[0][0])\n",
    "    newInfo = pd.DataFrame.from_dict({\"Dropped\":X.columns,\"Error rate\":errors,\"Error rate change\":[baseError-e for e in errors]})\n",
    "    return newInfo"
   ]
  },
  {
   "cell_type": "code",
   "execution_count": null,
   "metadata": {},
   "outputs": [],
   "source": [
    "def dropRecursivelyClasifier(model,df,resCol,errorFunc,maxiter=10,verbose=True):\n",
    "    newdf = df.copy()\n",
    "    newInfo = drop1Clasifier(model,newdf,resCol,errorFunc,verbose=verbose)\n",
    "    if verbose:\n",
    "        print(newInfo)\n",
    "    c = 0\n",
    "    while newInfo[\"Error rate change\"].max()>0 and c < maxiter:\n",
    "        droped = newInfo[\"Dropped\"][newInfo[\"Error rate change\"].idxmax()]\n",
    "        newdf = newdf.drop(droped,axis=1)\n",
    "        newInfo = drop1Clasifier(model,newdf,resCol,errorFunc,verbose=verbose)\n",
    "        if verbose:\n",
    "            print(newInfo)\n",
    "        c += 1\n",
    "    return newdf"
   ]
  },
  {
   "cell_type": "code",
   "execution_count": null,
   "metadata": {},
   "outputs": [],
   "source": [
    "def add1Clasifier(model,df,resCol,errorFunc,verbose=True):\n",
    "    X = df.drop(resCol,axis=1)\n",
    "    y = df[resCol]\n",
    "    currFit = model.fit(X,y)\n",
    "    baseError = errorFunc(model,df,resCol)[0][0]\n",
    "    errors = []\n",
    "    interactions = []\n",
    "    for index1,col1 in enumerate(X.columns):\n",
    "        if col1 != \"const\":\n",
    "            for index2,col2 in enumerate(X.columns[index1:]):\n",
    "                if col2 != \"const\":\n",
    "                    interactions.append(\"{0}:{1}\".format(col1,col2))\n",
    "    for inter in interactions:\n",
    "        aux = df.copy()\n",
    "        col1,col2 = inter.split(\":\")\n",
    "        aux[inter] = aux[col1]*aux[col2]\n",
    "        err = errorFunc(model,aux,resCol)\n",
    "        # Use global error as function\n",
    "        errors.append(err[0][0])\n",
    "    newInfo = pd.DataFrame.from_dict({\"Added\":interactions,\"Error rate\":errors,\"Error rate change\":[baseError-e for e in errors]})\n",
    "    return newInfo"
   ]
  },
  {
   "cell_type": "code",
   "execution_count": null,
   "metadata": {},
   "outputs": [],
   "source": [
    "def addRecursivelyClasifier(model,df,resCol,errorFunc,maxiter=10,verbose=True):\n",
    "    newdf = df.copy()\n",
    "    newInfo = add1Clasifier(model,newdf,resCol,errorFunc,verbose=verbose)\n",
    "    if verbose:\n",
    "        print(newInfo)\n",
    "    c = 0\n",
    "    while newInfo[\"Error rate change\"].max()>0 and c < maxiter:\n",
    "        added = newInfo[\"Added\"][newInfo[\"Error rate change\"].idxmax()]\n",
    "        spl = added.split(\":\")\n",
    "        col1,col2 = spl \n",
    "        newdf[\"*\".join(spl)] = newdf[col1]*newdf[col2]\n",
    "        newInfo = add1(model,newdf,resCol,errorFunc,verbose=verbose)\n",
    "        if verbose:\n",
    "            print(newInfo)\n",
    "        c += 1\n",
    "    return newdf"
   ]
  },
  {
   "cell_type": "code",
   "execution_count": null,
   "metadata": {},
   "outputs": [],
   "source": [
    "def stepErrorRateClasifier(model,df,resCol,errorFunc,maxiter=10,verbose=True):\n",
    "    newdf = df.copy()\n",
    "    dropInfo = drop1Clasifier(model,newdf,resCol,errorFunc,verbose=verbose)\n",
    "    addInfo = add1Clasifier(model,newdf,resCol,errorFunc,verbose=verbose)\n",
    "    if verbose:\n",
    "        print(dropInfo)\n",
    "        print(addInfo)\n",
    "    max1 = dropInfo[\"Error rate change\"].max()\n",
    "    max2 = addInfo[\"Error rate change\"].max()\n",
    "    totalmax = max(max1,max2)\n",
    "    c = 0\n",
    "    while totalmax > 0 and c < maxiter:\n",
    "        if totalmax == max1:\n",
    "            droped = dropInfo[\"Dropped\"][dropInfo[\"Error rate change\"].idxmax()]\n",
    "            newdf = newdf.drop(droped,axis=1)\n",
    "        else:\n",
    "            added = addInfo[\"Added\"][addInfo[\"Error rate change\"].idxmax()]\n",
    "            spl = added.split(\":\")\n",
    "            col1,col2 = spl \n",
    "            newdf[\"*\".join(spl)] = newdf[col1]*newdf[col2]\n",
    "        dropInfo = drop1Clasifier(model,newdf,resCol,errorFunc,verbose=verbose)\n",
    "        addInfo = add1Clasifier(model,newdf,resCol,errorFunc,verbose=verbose)\n",
    "        if verbose:\n",
    "            print(dropInfo)\n",
    "            print(addInfo)\n",
    "        max1 = dropInfo[\"Error rate change\"].max()\n",
    "        max2 = addInfo[\"Error rate change\"].max()\n",
    "        totalmax = max(max1,max2)\n",
    "        c += 1\n",
    "    return newdf"
   ]
  },
  {
   "cell_type": "code",
   "execution_count": 14,
   "metadata": {},
   "outputs": [],
   "source": [
    "df = getRDataset(name=\"swiss\",package=\"datasets\")"
   ]
  },
  {
   "cell_type": "code",
   "execution_count": 15,
   "metadata": {},
   "outputs": [
    {
     "name": "stdout",
     "output_type": "stream",
     "text": [
      "['const', 'Agriculture', 'Education', 'Catholic', 'Infant.Mortality']\n"
     ]
    }
   ],
   "source": [
    "newDf = dropRecursively(sm.OLS,sm.add_constant(df.drop(\"Fertility\",axis=1)),df[\"Fertility\"],verbose=False)\n",
    "print(newDf.columns.to_list())"
   ]
  },
  {
   "cell_type": "code",
   "execution_count": 16,
   "metadata": {},
   "outputs": [
    {
     "name": "stdout",
     "output_type": "stream",
     "text": [
      "['const', 'Agriculture', 'Examination', 'Education', 'Catholic', 'Infant.Mortality', 'Education*Catholic', 'Catholic*Education*Catholic', 'Examination*Catholic*Education*Catholic', 'Examination*Infant.Mortality', 'Agriculture*Infant.Mortality', 'Agriculture*Catholic', 'Catholic*Catholic', 'Examination*Catholic*Education*Catholic*Examination*Infant.Mortality', 'Agriculture*Catholic*Examination*Catholic*Education*Catholic*Examination*Infant.Mortality', 'Education*Examination*Catholic*Education*Catholic']\n"
     ]
    }
   ],
   "source": [
    "newDf = addRecursively(sm.OLS,sm.add_constant(df.drop(\"Fertility\",axis=1)),df[\"Fertility\"],verbose=False)\n",
    "print(newDf.columns.to_list())"
   ]
  },
  {
   "cell_type": "code",
   "execution_count": 17,
   "metadata": {},
   "outputs": [
    {
     "name": "stdout",
     "output_type": "stream",
     "text": [
      "['const', 'Agriculture', 'Examination', 'Catholic', 'Education*Catholic', 'Examination*Catholic*Education*Catholic', 'Agriculture*Infant.Mortality', 'Catholic*Catholic', 'Education*Agriculture*Catholic*Examination*Catholic*Education*Catholic*Examination*Infant.Mortality', 'Examination*Catholic', 'Infant.Mortality*Agriculture*Infant.Mortality', 'Examination*Infant.Mortality*Examination*Infant.Mortality*Examination*Infant.Mortality*Examination*Infant.Mortality', 'Infant.Mortality*Infant.Mortality*Agriculture*Infant.Mortality', 'Examination*Infant.Mortality*Examination*Infant.Mortality*Examination*Infant.Mortality', 'Catholic*Catholic*Examination*Catholic', 'Examination*Catholic*Catholic*Catholic*Examination*Catholic', 'Infant.Mortality*Infant.Mortality*Infant.Mortality*Agriculture*Infant.Mortality', 'Agriculture*Examination*Infant.Mortality*Examination*Infant.Mortality*Examination*Infant.Mortality', 'Infant.Mortality*Infant.Mortality*Agriculture*Infant.Mortality*Infant.Mortality*Infant.Mortality*Infant.Mortality*Agriculture*Infant.Mortality', 'Agriculture*Infant.Mortality*Examination*Catholic*Catholic*Catholic*Examination*Catholic', 'Education*Catholic*Agriculture*Infant.Mortality', 'Catholic*Examination*Examination*Catholic*Catholic*Catholic*Examination*Catholic']\n"
     ]
    }
   ],
   "source": [
    "newDf = stepAIC(sm.OLS,sm.add_constant(df.drop(\"Fertility\",axis=1)),df[\"Fertility\"],maxiter=50,verbose=False)\n",
    "print(newDf.columns.to_list())"
   ]
  },
  {
   "cell_type": "code",
   "execution_count": 56,
   "metadata": {},
   "outputs": [
    {
     "name": "stdout",
     "output_type": "stream",
     "text": [
      "Optimization terminated successfully.\n",
      "         Current function value: 0.125058\n",
      "         Iterations 13\n"
     ]
    },
    {
     "data": {
      "text/html": [
       "<table class=\"simpletable\">\n",
       "<caption>MNLogit Regression Results</caption>\n",
       "<tr>\n",
       "  <th>Dep. Variable:</th>         <td>Class</td>      <th>  No. Observations:  </th>  <td>   145</td>  \n",
       "</tr>\n",
       "<tr>\n",
       "  <th>Model:</th>                <td>MNLogit</td>     <th>  Df Residuals:      </th>  <td>   133</td>  \n",
       "</tr>\n",
       "<tr>\n",
       "  <th>Method:</th>                 <td>MLE</td>       <th>  Df Model:          </th>  <td>    10</td>  \n",
       "</tr>\n",
       "<tr>\n",
       "  <th>Date:</th>            <td>Mon, 13 Apr 2020</td> <th>  Pseudo R-squ.:     </th>  <td>0.8776</td>  \n",
       "</tr>\n",
       "<tr>\n",
       "  <th>Time:</th>                <td>19:47:28</td>     <th>  Log-Likelihood:    </th> <td> -18.133</td> \n",
       "</tr>\n",
       "<tr>\n",
       "  <th>converged:</th>             <td>True</td>       <th>  LL-Null:           </th> <td> -148.10</td> \n",
       "</tr>\n",
       "<tr>\n",
       "  <th>Covariance Type:</th>     <td>nonrobust</td>    <th>  LLR p-value:       </th> <td>4.417e-50</td>\n",
       "</tr>\n",
       "</table>\n",
       "<table class=\"simpletable\">\n",
       "<tr>\n",
       "      <th>Class=1</th>       <th>coef</th>     <th>std err</th>      <th>z</th>      <th>P>|z|</th>  <th>[0.025</th>    <th>0.975]</th>  \n",
       "</tr>\n",
       "<tr>\n",
       "  <th>Patient</th>        <td>   -0.0892</td> <td>    0.036</td> <td>   -2.470</td> <td> 0.014</td> <td>   -0.160</td> <td>   -0.018</td>\n",
       "</tr>\n",
       "<tr>\n",
       "  <th>Weight</th>         <td>    7.5876</td> <td>    5.306</td> <td>    1.430</td> <td> 0.153</td> <td>   -2.812</td> <td>   17.987</td>\n",
       "</tr>\n",
       "<tr>\n",
       "  <th>Fglucose</th>       <td>    0.2767</td> <td>    0.079</td> <td>    3.525</td> <td> 0.000</td> <td>    0.123</td> <td>    0.431</td>\n",
       "</tr>\n",
       "<tr>\n",
       "  <th>GlucoseInt</th>     <td>   -0.0587</td> <td>    0.016</td> <td>   -3.600</td> <td> 0.000</td> <td>   -0.091</td> <td>   -0.027</td>\n",
       "</tr>\n",
       "<tr>\n",
       "  <th>InsulinResp</th>    <td>    0.0053</td> <td>    0.005</td> <td>    1.146</td> <td> 0.252</td> <td>   -0.004</td> <td>    0.014</td>\n",
       "</tr>\n",
       "<tr>\n",
       "  <th>InsulineResist</th> <td>   -0.0237</td> <td>    0.012</td> <td>   -1.904</td> <td> 0.057</td> <td>   -0.048</td> <td>    0.001</td>\n",
       "</tr>\n",
       "<tr>\n",
       "      <th>Class=2</th>       <th>coef</th>     <th>std err</th>      <th>z</th>      <th>P>|z|</th>  <th>[0.025</th>    <th>0.975]</th>  \n",
       "</tr>\n",
       "<tr>\n",
       "  <th>Patient</th>        <td>    0.1089</td> <td>    0.088</td> <td>    1.240</td> <td> 0.215</td> <td>   -0.063</td> <td>    0.281</td>\n",
       "</tr>\n",
       "<tr>\n",
       "  <th>Weight</th>         <td>  -40.3619</td> <td>   19.288</td> <td>   -2.093</td> <td> 0.036</td> <td>  -78.166</td> <td>   -2.558</td>\n",
       "</tr>\n",
       "<tr>\n",
       "  <th>Fglucose</th>       <td>    0.2556</td> <td>    0.110</td> <td>    2.316</td> <td> 0.021</td> <td>    0.039</td> <td>    0.472</td>\n",
       "</tr>\n",
       "<tr>\n",
       "  <th>GlucoseInt</th>     <td>   -0.0119</td> <td>    0.021</td> <td>   -0.564</td> <td> 0.573</td> <td>   -0.053</td> <td>    0.029</td>\n",
       "</tr>\n",
       "<tr>\n",
       "  <th>InsulinResp</th>    <td>   -0.0110</td> <td>    0.016</td> <td>   -0.696</td> <td> 0.486</td> <td>   -0.042</td> <td>    0.020</td>\n",
       "</tr>\n",
       "<tr>\n",
       "  <th>InsulineResist</th> <td>    0.0325</td> <td>    0.025</td> <td>    1.314</td> <td> 0.189</td> <td>   -0.016</td> <td>    0.081</td>\n",
       "</tr>\n",
       "</table>"
      ],
      "text/plain": [
       "<class 'statsmodels.iolib.summary.Summary'>\n",
       "\"\"\"\n",
       "                          MNLogit Regression Results                          \n",
       "==============================================================================\n",
       "Dep. Variable:                  Class   No. Observations:                  145\n",
       "Model:                        MNLogit   Df Residuals:                      133\n",
       "Method:                           MLE   Df Model:                           10\n",
       "Date:                Mon, 13 Apr 2020   Pseudo R-squ.:                  0.8776\n",
       "Time:                        19:47:28   Log-Likelihood:                -18.133\n",
       "converged:                       True   LL-Null:                       -148.10\n",
       "Covariance Type:            nonrobust   LLR p-value:                 4.417e-50\n",
       "==================================================================================\n",
       "       Class=1       coef    std err          z      P>|z|      [0.025      0.975]\n",
       "----------------------------------------------------------------------------------\n",
       "Patient           -0.0892      0.036     -2.470      0.014      -0.160      -0.018\n",
       "Weight             7.5876      5.306      1.430      0.153      -2.812      17.987\n",
       "Fglucose           0.2767      0.079      3.525      0.000       0.123       0.431\n",
       "GlucoseInt        -0.0587      0.016     -3.600      0.000      -0.091      -0.027\n",
       "InsulinResp        0.0053      0.005      1.146      0.252      -0.004       0.014\n",
       "InsulineResist    -0.0237      0.012     -1.904      0.057      -0.048       0.001\n",
       "----------------------------------------------------------------------------------\n",
       "       Class=2       coef    std err          z      P>|z|      [0.025      0.975]\n",
       "----------------------------------------------------------------------------------\n",
       "Patient            0.1089      0.088      1.240      0.215      -0.063       0.281\n",
       "Weight           -40.3619     19.288     -2.093      0.036     -78.166      -2.558\n",
       "Fglucose           0.2556      0.110      2.316      0.021       0.039       0.472\n",
       "GlucoseInt        -0.0119      0.021     -0.564      0.573      -0.053       0.029\n",
       "InsulinResp       -0.0110      0.016     -0.696      0.486      -0.042       0.020\n",
       "InsulineResist     0.0325      0.025      1.314      0.189      -0.016       0.081\n",
       "==================================================================================\n",
       "\"\"\""
      ]
     },
     "execution_count": 56,
     "metadata": {},
     "output_type": "execute_result"
    }
   ],
   "source": [
    "df=pd.read_csv(\"Glucose1.txt\")\n",
    "resCol=\"Class\"\n",
    "res = multinomialLogisticRegressionClassifier(df.drop(resCol,axis=1),df[resCol],reference=2)\n",
    "res[1].summary()"
   ]
  },
  {
   "cell_type": "code",
   "execution_count": 67,
   "metadata": {},
   "outputs": [
    {
     "data": {
      "text/html": [
       "<div>\n",
       "<style scoped>\n",
       "    .dataframe tbody tr th:only-of-type {\n",
       "        vertical-align: middle;\n",
       "    }\n",
       "\n",
       "    .dataframe tbody tr th {\n",
       "        vertical-align: top;\n",
       "    }\n",
       "\n",
       "    .dataframe thead th {\n",
       "        text-align: right;\n",
       "    }\n",
       "</style>\n",
       "<table border=\"1\" class=\"dataframe\">\n",
       "  <thead>\n",
       "    <tr style=\"text-align: right;\">\n",
       "      <th></th>\n",
       "      <th>Class = 1</th>\n",
       "      <th>Coef.</th>\n",
       "      <th>Std.Err.</th>\n",
       "      <th>t</th>\n",
       "      <th>P&gt;|t|</th>\n",
       "      <th>[0.025</th>\n",
       "      <th>0.975]</th>\n",
       "    </tr>\n",
       "  </thead>\n",
       "  <tbody>\n",
       "    <tr>\n",
       "      <th>Patient</th>\n",
       "      <td>Patient</td>\n",
       "      <td>0.108934</td>\n",
       "      <td>0.087825</td>\n",
       "      <td>1.240360</td>\n",
       "      <td>0.214842</td>\n",
       "      <td>-0.063199</td>\n",
       "      <td>0.281068</td>\n",
       "    </tr>\n",
       "    <tr>\n",
       "      <th>Weight</th>\n",
       "      <td>Weight</td>\n",
       "      <td>-40.361854</td>\n",
       "      <td>19.288229</td>\n",
       "      <td>-2.092564</td>\n",
       "      <td>0.036388</td>\n",
       "      <td>-78.166089</td>\n",
       "      <td>-2.557620</td>\n",
       "    </tr>\n",
       "    <tr>\n",
       "      <th>Fglucose</th>\n",
       "      <td>Fglucose</td>\n",
       "      <td>0.255553</td>\n",
       "      <td>0.110362</td>\n",
       "      <td>2.315586</td>\n",
       "      <td>0.020581</td>\n",
       "      <td>0.039247</td>\n",
       "      <td>0.471859</td>\n",
       "    </tr>\n",
       "    <tr>\n",
       "      <th>GlucoseInt</th>\n",
       "      <td>GlucoseInt</td>\n",
       "      <td>-0.011876</td>\n",
       "      <td>0.021062</td>\n",
       "      <td>-0.563888</td>\n",
       "      <td>0.572830</td>\n",
       "      <td>-0.053156</td>\n",
       "      <td>0.029404</td>\n",
       "    </tr>\n",
       "    <tr>\n",
       "      <th>InsulinResp</th>\n",
       "      <td>InsulinResp</td>\n",
       "      <td>-0.011043</td>\n",
       "      <td>0.015863</td>\n",
       "      <td>-0.696140</td>\n",
       "      <td>0.486341</td>\n",
       "      <td>-0.042133</td>\n",
       "      <td>0.020048</td>\n",
       "    </tr>\n",
       "    <tr>\n",
       "      <th>InsulineResist</th>\n",
       "      <td>InsulineResist</td>\n",
       "      <td>0.032462</td>\n",
       "      <td>0.024700</td>\n",
       "      <td>1.314269</td>\n",
       "      <td>0.188756</td>\n",
       "      <td>-0.015949</td>\n",
       "      <td>0.080874</td>\n",
       "    </tr>\n",
       "  </tbody>\n",
       "</table>\n",
       "</div>"
      ],
      "text/plain": [
       "                     Class = 1      Coef.   Std.Err.         t     P>|t|  \\\n",
       "Patient                Patient   0.108934   0.087825  1.240360  0.214842   \n",
       "Weight                  Weight -40.361854  19.288229 -2.092564  0.036388   \n",
       "Fglucose              Fglucose   0.255553   0.110362  2.315586  0.020581   \n",
       "GlucoseInt          GlucoseInt  -0.011876   0.021062 -0.563888  0.572830   \n",
       "InsulinResp        InsulinResp  -0.011043   0.015863 -0.696140  0.486341   \n",
       "InsulineResist  InsulineResist   0.032462   0.024700  1.314269  0.188756   \n",
       "\n",
       "                   [0.025    0.975]  \n",
       "Patient         -0.063199  0.281068  \n",
       "Weight         -78.166089 -2.557620  \n",
       "Fglucose         0.039247  0.471859  \n",
       "GlucoseInt      -0.053156  0.029404  \n",
       "InsulinResp     -0.042133  0.020048  \n",
       "InsulineResist  -0.015949  0.080874  "
      ]
     },
     "execution_count": 67,
     "metadata": {},
     "output_type": "execute_result"
    }
   ],
   "source": [
    "res[1].summary2().tables[2]"
   ]
  },
  {
   "cell_type": "code",
   "execution_count": 50,
   "metadata": {},
   "outputs": [
    {
     "data": {
      "text/html": [
       "<table class=\"simpletable\">\n",
       "<caption>MNLogit Regression Results</caption>\n",
       "<tr>\n",
       "  <th>Dep. Variable:</th>         <td>Class</td>      <th>  No. Observations:  </th>  <td>   145</td>  \n",
       "</tr>\n",
       "<tr>\n",
       "  <th>Model:</th>                <td>MNLogit</td>     <th>  Df Residuals:      </th>  <td>   133</td>  \n",
       "</tr>\n",
       "<tr>\n",
       "  <th>Method:</th>                 <td>MLE</td>       <th>  Df Model:          </th>  <td>    10</td>  \n",
       "</tr>\n",
       "<tr>\n",
       "  <th>Date:</th>            <td>Mon, 13 Apr 2020</td> <th>  Pseudo R-squ.:     </th>  <td>0.8776</td>  \n",
       "</tr>\n",
       "<tr>\n",
       "  <th>Time:</th>                <td>19:36:24</td>     <th>  Log-Likelihood:    </th> <td> -18.133</td> \n",
       "</tr>\n",
       "<tr>\n",
       "  <th>converged:</th>             <td>True</td>       <th>  LL-Null:           </th> <td> -148.10</td> \n",
       "</tr>\n",
       "<tr>\n",
       "  <th>Covariance Type:</th>     <td>nonrobust</td>    <th>  LLR p-value:       </th> <td>4.417e-50</td>\n",
       "</tr>\n",
       "</table>\n",
       "<table class=\"simpletable\">\n",
       "<tr>\n",
       "      <th>Class=1</th>       <th>coef</th>     <th>std err</th>      <th>z</th>      <th>P>|z|</th>  <th>[0.025</th>    <th>0.975]</th>  \n",
       "</tr>\n",
       "<tr>\n",
       "  <th>Patient</th>        <td>   -0.0892</td> <td>    0.036</td> <td>   -2.470</td> <td> 0.014</td> <td>   -0.160</td> <td>   -0.018</td>\n",
       "</tr>\n",
       "<tr>\n",
       "  <th>Weight</th>         <td>    7.5876</td> <td>    5.306</td> <td>    1.430</td> <td> 0.153</td> <td>   -2.812</td> <td>   17.987</td>\n",
       "</tr>\n",
       "<tr>\n",
       "  <th>Fglucose</th>       <td>    0.2767</td> <td>    0.079</td> <td>    3.525</td> <td> 0.000</td> <td>    0.123</td> <td>    0.431</td>\n",
       "</tr>\n",
       "<tr>\n",
       "  <th>GlucoseInt</th>     <td>   -0.0587</td> <td>    0.016</td> <td>   -3.600</td> <td> 0.000</td> <td>   -0.091</td> <td>   -0.027</td>\n",
       "</tr>\n",
       "<tr>\n",
       "  <th>InsulinResp</th>    <td>    0.0053</td> <td>    0.005</td> <td>    1.146</td> <td> 0.252</td> <td>   -0.004</td> <td>    0.014</td>\n",
       "</tr>\n",
       "<tr>\n",
       "  <th>InsulineResist</th> <td>   -0.0237</td> <td>    0.012</td> <td>   -1.904</td> <td> 0.057</td> <td>   -0.048</td> <td>    0.001</td>\n",
       "</tr>\n",
       "<tr>\n",
       "      <th>Class=2</th>       <th>coef</th>     <th>std err</th>      <th>z</th>      <th>P>|z|</th>  <th>[0.025</th>    <th>0.975]</th>  \n",
       "</tr>\n",
       "<tr>\n",
       "  <th>Patient</th>        <td>    0.1089</td> <td>    0.088</td> <td>    1.240</td> <td> 0.215</td> <td>   -0.063</td> <td>    0.281</td>\n",
       "</tr>\n",
       "<tr>\n",
       "  <th>Weight</th>         <td>  -40.3619</td> <td>   19.288</td> <td>   -2.093</td> <td> 0.036</td> <td>  -78.166</td> <td>   -2.558</td>\n",
       "</tr>\n",
       "<tr>\n",
       "  <th>Fglucose</th>       <td>    0.2556</td> <td>    0.110</td> <td>    2.316</td> <td> 0.021</td> <td>    0.039</td> <td>    0.472</td>\n",
       "</tr>\n",
       "<tr>\n",
       "  <th>GlucoseInt</th>     <td>   -0.0119</td> <td>    0.021</td> <td>   -0.564</td> <td> 0.573</td> <td>   -0.053</td> <td>    0.029</td>\n",
       "</tr>\n",
       "<tr>\n",
       "  <th>InsulinResp</th>    <td>   -0.0110</td> <td>    0.016</td> <td>   -0.696</td> <td> 0.486</td> <td>   -0.042</td> <td>    0.020</td>\n",
       "</tr>\n",
       "<tr>\n",
       "  <th>InsulineResist</th> <td>    0.0325</td> <td>    0.025</td> <td>    1.314</td> <td> 0.189</td> <td>   -0.016</td> <td>    0.081</td>\n",
       "</tr>\n",
       "</table>"
      ],
      "text/plain": [
       "<class 'statsmodels.iolib.summary.Summary'>\n",
       "\"\"\"\n",
       "                          MNLogit Regression Results                          \n",
       "==============================================================================\n",
       "Dep. Variable:                  Class   No. Observations:                  145\n",
       "Model:                        MNLogit   Df Residuals:                      133\n",
       "Method:                           MLE   Df Model:                           10\n",
       "Date:                Mon, 13 Apr 2020   Pseudo R-squ.:                  0.8776\n",
       "Time:                        19:36:24   Log-Likelihood:                -18.133\n",
       "converged:                       True   LL-Null:                       -148.10\n",
       "Covariance Type:            nonrobust   LLR p-value:                 4.417e-50\n",
       "==================================================================================\n",
       "       Class=1       coef    std err          z      P>|z|      [0.025      0.975]\n",
       "----------------------------------------------------------------------------------\n",
       "Patient           -0.0892      0.036     -2.470      0.014      -0.160      -0.018\n",
       "Weight             7.5876      5.306      1.430      0.153      -2.812      17.987\n",
       "Fglucose           0.2767      0.079      3.525      0.000       0.123       0.431\n",
       "GlucoseInt        -0.0587      0.016     -3.600      0.000      -0.091      -0.027\n",
       "InsulinResp        0.0053      0.005      1.146      0.252      -0.004       0.014\n",
       "InsulineResist    -0.0237      0.012     -1.904      0.057      -0.048       0.001\n",
       "----------------------------------------------------------------------------------\n",
       "       Class=2       coef    std err          z      P>|z|      [0.025      0.975]\n",
       "----------------------------------------------------------------------------------\n",
       "Patient            0.1089      0.088      1.240      0.215      -0.063       0.281\n",
       "Weight           -40.3619     19.288     -2.093      0.036     -78.166      -2.558\n",
       "Fglucose           0.2556      0.110      2.316      0.021       0.039       0.472\n",
       "GlucoseInt        -0.0119      0.021     -0.564      0.573      -0.053       0.029\n",
       "InsulinResp       -0.0110      0.016     -0.696      0.486      -0.042       0.020\n",
       "InsulineResist     0.0325      0.025      1.314      0.189      -0.016       0.081\n",
       "==================================================================================\n",
       "\"\"\""
      ]
     },
     "execution_count": 50,
     "metadata": {},
     "output_type": "execute_result"
    }
   ],
   "source": [
    "res[1].summary()"
   ]
  },
  {
   "cell_type": "code",
   "execution_count": 51,
   "metadata": {},
   "outputs": [
    {
     "data": {
      "text/plain": [
       "133.0"
      ]
     },
     "execution_count": 51,
     "metadata": {},
     "output_type": "execute_result"
    }
   ],
   "source": [
    "res[1].df_resid"
   ]
  },
  {
   "cell_type": "code",
   "execution_count": 52,
   "metadata": {},
   "outputs": [
    {
     "data": {
      "text/html": [
       "<div>\n",
       "<style scoped>\n",
       "    .dataframe tbody tr th:only-of-type {\n",
       "        vertical-align: middle;\n",
       "    }\n",
       "\n",
       "    .dataframe tbody tr th {\n",
       "        vertical-align: top;\n",
       "    }\n",
       "\n",
       "    .dataframe thead th {\n",
       "        text-align: right;\n",
       "    }\n",
       "</style>\n",
       "<table border=\"1\" class=\"dataframe\">\n",
       "  <thead>\n",
       "    <tr style=\"text-align: right;\">\n",
       "      <th></th>\n",
       "      <th>0</th>\n",
       "      <th>1</th>\n",
       "    </tr>\n",
       "  </thead>\n",
       "  <tbody>\n",
       "    <tr>\n",
       "      <th>Patient</th>\n",
       "      <td>0.013525</td>\n",
       "      <td>0.214842</td>\n",
       "    </tr>\n",
       "    <tr>\n",
       "      <th>Weight</th>\n",
       "      <td>0.152726</td>\n",
       "      <td>0.036388</td>\n",
       "    </tr>\n",
       "    <tr>\n",
       "      <th>Fglucose</th>\n",
       "      <td>0.000424</td>\n",
       "      <td>0.020581</td>\n",
       "    </tr>\n",
       "    <tr>\n",
       "      <th>GlucoseInt</th>\n",
       "      <td>0.000319</td>\n",
       "      <td>0.572830</td>\n",
       "    </tr>\n",
       "    <tr>\n",
       "      <th>InsulinResp</th>\n",
       "      <td>0.251715</td>\n",
       "      <td>0.486341</td>\n",
       "    </tr>\n",
       "    <tr>\n",
       "      <th>InsulineResist</th>\n",
       "      <td>0.056932</td>\n",
       "      <td>0.188756</td>\n",
       "    </tr>\n",
       "  </tbody>\n",
       "</table>\n",
       "</div>"
      ],
      "text/plain": [
       "                       0         1\n",
       "Patient         0.013525  0.214842\n",
       "Weight          0.152726  0.036388\n",
       "Fglucose        0.000424  0.020581\n",
       "GlucoseInt      0.000319  0.572830\n",
       "InsulinResp     0.251715  0.486341\n",
       "InsulineResist  0.056932  0.188756"
      ]
     },
     "execution_count": 52,
     "metadata": {},
     "output_type": "execute_result"
    }
   ],
   "source": [
    "res[1].pvalues"
   ]
  },
  {
   "cell_type": "code",
   "execution_count": 68,
   "metadata": {},
   "outputs": [
    {
     "name": "stdout",
     "output_type": "stream",
     "text": [
      "Optimization terminated successfully.\n",
      "         Current function value: 0.036444\n",
      "         Iterations 13\n",
      "Optimization terminated successfully.\n",
      "         Current function value: 0.222469\n",
      "         Iterations 10\n",
      "Optimization terminated successfully.\n",
      "         Current function value: 0.162191\n",
      "         Iterations 11\n"
     ]
    }
   ],
   "source": [
    "df=pd.read_csv(\"Glucose1.txt\")\n",
    "resCol=\"Class\"\n",
    "res = oneVsRestLogisticRegrresionClassifier(df.drop(resCol,axis=1),df[resCol])\n",
    "ex = res[1][0]"
   ]
  },
  {
   "cell_type": "code",
   "execution_count": 71,
   "metadata": {},
   "outputs": [
    {
     "data": {
      "text/plain": [
       "[                     0                 1                  2           3\n",
       " 0               Model:             Logit  Pseudo R-squared:       0.932\n",
       " 1  Dependent Variable:             Class               AIC:     22.5686\n",
       " 2                Date:  2020-04-13 19:56               BIC:     40.4290\n",
       " 3    No. Observations:               145    Log-Likelihood:     -5.2843\n",
       " 4            Df Model:                 5           LL-Null:     -77.770\n",
       " 5        Df Residuals:               139       LLR p-value:  1.5691e-29\n",
       " 6           Converged:            1.0000             Scale:      1.0000\n",
       " 7      No. Iterations:           13.0000                               ,\n",
       "                     Coef.   Std.Err.         z     P>|z|     [0.025    0.975]\n",
       " Patient          0.100313   0.076061  1.318851  0.187219  -0.048764  0.249390\n",
       " Weight         -32.778170  15.465603 -2.119424  0.034055 -63.090196 -2.466145\n",
       " Fglucose         0.109373   0.114530  0.954977  0.339589  -0.115101  0.333848\n",
       " GlucoseInt       0.004055   0.019146  0.211772  0.832285  -0.033471  0.041581\n",
       " InsulinResp     -0.008740   0.010704 -0.816499  0.414215  -0.029718  0.012239\n",
       " InsulineResist   0.034707   0.023590  1.471250  0.141224  -0.011529  0.080944]"
      ]
     },
     "execution_count": 71,
     "metadata": {},
     "output_type": "execute_result"
    }
   ],
   "source": [
    "ex.summary2().tables"
   ]
  },
  {
   "cell_type": "code",
   "execution_count": 16,
   "metadata": {},
   "outputs": [],
   "source": [
    "def errorRates(mod,X,y,n=100,size=0.5,equalRatios=False):\n",
    "    fin = np.zeros(n)\n",
    "    classes = list(set(y))\n",
    "    perClass = [np.zeros(n) for val in classes]\n",
    "    for i in range(n):\n",
    "        if size<1.0:\n",
    "            if equalRatios:\n",
    "                X_train, X_test, y_train, y_test = ms.train_test_split(X,y,train_size=size,stratify=y)\n",
    "            else:\n",
    "                X_train, X_test, y_train, y_test = ms.train_test_split(X,y,train_size=size)\n",
    "            fit = mod.fit(X_train,y_train)\n",
    "            res = fit.predict(X_test)\n",
    "            fin[i] = np.mean(y_test != res)\n",
    "            for j,val in enumerate(classes):\n",
    "                curr = X[y==val]\n",
    "                res = fit.predict(curr)\n",
    "                perClass[j][i] = np.mean(y[y==val] != res)\n",
    "        elif size==1:\n",
    "            fit = mod.fit(X,y)\n",
    "            res = fit.predict(X)\n",
    "            fin[i] = np.mean(y != res)\n",
    "            for j,val in enumerate(classes):\n",
    "                curr = X[y==val]\n",
    "                res = fit.predict(curr)\n",
    "                perClass[j][i] = np.mean(y[y==val] != res)\n",
    "    final = [np.mean(fin),np.std(fin)] \n",
    "    for cla in perClass:\n",
    "        final.append(np.mean(cla))\n",
    "        final.append(np.std(cla))\n",
    "    return final\n"
   ]
  },
  {
   "cell_type": "code",
   "execution_count": 17,
   "metadata": {},
   "outputs": [
    {
     "name": "stdout",
     "output_type": "stream",
     "text": [
      "   npreg  glu  bp  skin   bmi    ped  age type\n",
      "0      5   86  68    28  30.2  0.364   24   No\n",
      "1      7  195  70    33  25.1  0.163   55  Yes\n",
      "2      5   77  82    41  35.8  0.156   35   No\n",
      "3      0  165  76    43  47.9  0.259   26   No\n",
      "4      0  107  60    25  26.4  0.133   23   No\n"
     ]
    }
   ],
   "source": [
    "df = pd.read_csv(\"pimate.csv\")\n",
    "df = df.append(pd.read_csv(\"pimatr.csv\"),ignore_index=True)\n",
    "print(df.head())"
   ]
  },
  {
   "cell_type": "code",
   "execution_count": null,
   "metadata": {},
   "outputs": [],
   "source": []
  }
 ],
 "metadata": {
  "kernelspec": {
   "display_name": "Python 3",
   "language": "python",
   "name": "python3"
  },
  "language_info": {
   "codemirror_mode": {
    "name": "ipython",
    "version": 3
   },
   "file_extension": ".py",
   "mimetype": "text/x-python",
   "name": "python",
   "nbconvert_exporter": "python",
   "pygments_lexer": "ipython3",
   "version": "3.8.10"
  }
 },
 "nbformat": 4,
 "nbformat_minor": 4
}
